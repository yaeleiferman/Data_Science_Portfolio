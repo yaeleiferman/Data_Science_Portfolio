{
 "cells": [
  {
   "cell_type": "markdown",
   "id": "c01d5786",
   "metadata": {},
   "source": [
    "## Table of Contents:\n",
    "* [Introduction](#intro)\n",
    "* [Basic Data Wrangling](#wrangling)\n",
    "    * [Shape of the dataframe](#shape)\n",
    "    * [Convert columns to appropriate data types](#d_types)\n",
    "    * [Understand the data and how it's distributed](#data)\n",
    "    * [Remove redundant columns](#redundant)\n",
    "    * [Deal with nulls](#nulls)\n",
    "* [Basic EDA](#basic_eda)\n",
    "    * [Explore the relationship between mosquito number and date](#num_vs_date)\n",
    "* [Advanced EDA](#adv_eda)\n",
    "    * [Explore the relationship between mosquito species and WNV prevalence](#species_vs_WNV)\n",
    "    * [Explore the relationship between number of mosquitos caught and trap type](#num_vs_trap)\n",
    "    * [Explore the relationship between ](#st)\n",
    "* [Basic Analysis](#analysis)\n",
    "    * [Prepare data for analysis](#prep)\n",
    "    * [Average number of mosquitoes per month](#avg)\n",
    "* [Statistical Analysis](#stat_analysis)\n",
    "    * [Determine difference of WNV occurrence between varying mosquito species](#stat_sig)\n",
    "    * [Determine columns that are positively/negatively correlated with number of mosquitoes caught](#corr)\n",
    "* [Advanced Statistical Analysis](#adv_stat_analysis)\n",
    "    * [Linear regression to determine how independent variables affect number of mosquitoes caught](#lin_reg)\n",
    "    * [Logistic regression to determine how independent variables affect WNV presence](#log_reg)\n",
    "* [Conclusion](#conc)"
   ]
  },
  {
   "cell_type": "markdown",
   "id": "9394716a",
   "metadata": {},
   "source": [
    "## Introduction <a class=\"anchor\" id=\"intro\"></a>\n",
    "\n",
    "West Nile Virus (WNV) is a viral illness largely spread by mosquitoes. The City of Chicago, Illinois has been keeping track of mosquito populations and WNV prevalence using a series of traps that they place around the city. The goal is to use this dataset to study the captured specimens and evaluate the state of WNV spread in the city."
   ]
  },
  {
   "cell_type": "markdown",
   "id": "9c11ea35",
   "metadata": {},
   "source": [
    "## Basic Data Wrangling <a class=\"anchor\" id=\"wrangling\"></a>"
   ]
  },
  {
   "cell_type": "code",
   "execution_count": 1,
   "id": "9e4621fc-2ef5-4d3f-bbc8-10005f96973b",
   "metadata": {
    "tags": []
   },
   "outputs": [],
   "source": [
    "import numpy as np\n",
    "import pandas as pd\n",
    "import matplotlib.pyplot as plt\n",
    "import seaborn as sns"
   ]
  },
  {
   "cell_type": "code",
   "execution_count": 2,
   "id": "d2e0244b-e9f7-4126-8588-903dba62e24b",
   "metadata": {
    "tags": []
   },
   "outputs": [],
   "source": [
    "# reading in the data\n",
    "mosquitodf = pd.read_csv('mosquito_data.csv')"
   ]
  },
  {
   "cell_type": "code",
   "execution_count": 3,
   "id": "117f7fe3-e359-4da9-8c04-e1a9ceeab9b0",
   "metadata": {
    "tags": []
   },
   "outputs": [
    {
     "data": {
      "text/html": [
       "<div>\n",
       "<style scoped>\n",
       "    .dataframe tbody tr th:only-of-type {\n",
       "        vertical-align: middle;\n",
       "    }\n",
       "\n",
       "    .dataframe tbody tr th {\n",
       "        vertical-align: top;\n",
       "    }\n",
       "\n",
       "    .dataframe thead th {\n",
       "        text-align: right;\n",
       "    }\n",
       "</style>\n",
       "<table border=\"1\" class=\"dataframe\">\n",
       "  <thead>\n",
       "    <tr style=\"text-align: right;\">\n",
       "      <th></th>\n",
       "      <th>Year</th>\n",
       "      <th>Week</th>\n",
       "      <th>Address Block</th>\n",
       "      <th>Block</th>\n",
       "      <th>Trap</th>\n",
       "      <th>Trap type</th>\n",
       "      <th>Date</th>\n",
       "      <th>Mosquito number</th>\n",
       "      <th>Mosquito ID</th>\n",
       "      <th>WNV Present</th>\n",
       "      <th>Species</th>\n",
       "      <th>Lat</th>\n",
       "      <th>Lon</th>\n",
       "    </tr>\n",
       "  </thead>\n",
       "  <tbody>\n",
       "    <tr>\n",
       "      <th>0</th>\n",
       "      <td>2019</td>\n",
       "      <td>39</td>\n",
       "      <td>100XX W OHARE AIRPORT</td>\n",
       "      <td>100</td>\n",
       "      <td>T910</td>\n",
       "      <td>GRAVID</td>\n",
       "      <td>2019-09-26 00:09:00</td>\n",
       "      <td>2</td>\n",
       "      <td>Res</td>\n",
       "      <td>negative</td>\n",
       "      <td>CULEX RESTUANS</td>\n",
       "      <td>NaN</td>\n",
       "      <td>NaN</td>\n",
       "    </tr>\n",
       "    <tr>\n",
       "      <th>1</th>\n",
       "      <td>2019</td>\n",
       "      <td>39</td>\n",
       "      <td>52XX S KOLMAR AVE</td>\n",
       "      <td>52</td>\n",
       "      <td>T114</td>\n",
       "      <td>GRAVID</td>\n",
       "      <td>2019-09-26 00:09:00</td>\n",
       "      <td>1</td>\n",
       "      <td>Res</td>\n",
       "      <td>negative</td>\n",
       "      <td>CULEX RESTUANS</td>\n",
       "      <td>41.798211</td>\n",
       "      <td>-87.736925</td>\n",
       "    </tr>\n",
       "    <tr>\n",
       "      <th>2</th>\n",
       "      <td>2019</td>\n",
       "      <td>39</td>\n",
       "      <td>58XX N WESTERN AVE</td>\n",
       "      <td>58</td>\n",
       "      <td>T028</td>\n",
       "      <td>GRAVID</td>\n",
       "      <td>2019-09-26 00:09:00</td>\n",
       "      <td>2</td>\n",
       "      <td>Res</td>\n",
       "      <td>negative</td>\n",
       "      <td>CULEX RESTUANS</td>\n",
       "      <td>41.987245</td>\n",
       "      <td>-87.689417</td>\n",
       "    </tr>\n",
       "    <tr>\n",
       "      <th>3</th>\n",
       "      <td>2019</td>\n",
       "      <td>39</td>\n",
       "      <td>39XX N SPRINGFIELD AVE</td>\n",
       "      <td>39</td>\n",
       "      <td>T228</td>\n",
       "      <td>GRAVID</td>\n",
       "      <td>2019-09-26 00:09:00</td>\n",
       "      <td>1</td>\n",
       "      <td>Res</td>\n",
       "      <td>negative</td>\n",
       "      <td>CULEX RESTUANS</td>\n",
       "      <td>41.953664</td>\n",
       "      <td>-87.724987</td>\n",
       "    </tr>\n",
       "    <tr>\n",
       "      <th>4</th>\n",
       "      <td>2019</td>\n",
       "      <td>39</td>\n",
       "      <td>131XX S BRANDON AVE</td>\n",
       "      <td>131</td>\n",
       "      <td>T209</td>\n",
       "      <td>GRAVID</td>\n",
       "      <td>2019-09-26 00:09:00</td>\n",
       "      <td>9</td>\n",
       "      <td>Res</td>\n",
       "      <td>negative</td>\n",
       "      <td>CULEX RESTUANS</td>\n",
       "      <td>41.657069</td>\n",
       "      <td>-87.546049</td>\n",
       "    </tr>\n",
       "  </tbody>\n",
       "</table>\n",
       "</div>"
      ],
      "text/plain": [
       "   Year  Week           Address Block  Block  Trap Trap type  \\\n",
       "0  2019    39   100XX W OHARE AIRPORT    100  T910    GRAVID   \n",
       "1  2019    39       52XX S KOLMAR AVE     52  T114    GRAVID   \n",
       "2  2019    39      58XX N WESTERN AVE     58  T028    GRAVID   \n",
       "3  2019    39  39XX N SPRINGFIELD AVE     39  T228    GRAVID   \n",
       "4  2019    39     131XX S BRANDON AVE    131  T209    GRAVID   \n",
       "\n",
       "                  Date  Mosquito number Mosquito ID WNV Present  \\\n",
       "0  2019-09-26 00:09:00                2         Res    negative   \n",
       "1  2019-09-26 00:09:00                1         Res    negative   \n",
       "2  2019-09-26 00:09:00                2         Res    negative   \n",
       "3  2019-09-26 00:09:00                1         Res    negative   \n",
       "4  2019-09-26 00:09:00                9         Res    negative   \n",
       "\n",
       "          Species        Lat        Lon  \n",
       "0  CULEX RESTUANS        NaN        NaN  \n",
       "1  CULEX RESTUANS  41.798211 -87.736925  \n",
       "2  CULEX RESTUANS  41.987245 -87.689417  \n",
       "3  CULEX RESTUANS  41.953664 -87.724987  \n",
       "4  CULEX RESTUANS  41.657069 -87.546049  "
      ]
     },
     "execution_count": 3,
     "metadata": {},
     "output_type": "execute_result"
    }
   ],
   "source": [
    "mosquitodf.head()"
   ]
  },
  {
   "cell_type": "markdown",
   "id": "f7e00320-09b4-49a9-b6a7-fcf691366f84",
   "metadata": {},
   "source": [
    "### What is the shape of the dataframe? <a class=\"anchor\" id=\"shape\"></a>"
   ]
  },
  {
   "cell_type": "code",
   "execution_count": 4,
   "id": "c91e3bb1-568d-4165-a79d-47f3639fda06",
   "metadata": {
    "tags": []
   },
   "outputs": [
    {
     "data": {
      "text/plain": [
       "(18495, 13)"
      ]
     },
     "execution_count": 4,
     "metadata": {},
     "output_type": "execute_result"
    }
   ],
   "source": [
    "mosquitodf.shape "
   ]
  },
  {
   "cell_type": "markdown",
   "id": "c336c0c5-1703-4279-a6ec-656cb7da6ba0",
   "metadata": {},
   "source": [
    "### Convert columns to appropriate data types <a class=\"anchor\" id=\"d_types\"></a>"
   ]
  },
  {
   "cell_type": "code",
   "execution_count": 5,
   "id": "a79a6c24-a6a0-4767-ae19-f7776ce1c984",
   "metadata": {
    "tags": []
   },
   "outputs": [
    {
     "name": "stdout",
     "output_type": "stream",
     "text": [
      "<class 'pandas.core.frame.DataFrame'>\n",
      "RangeIndex: 18495 entries, 0 to 18494\n",
      "Data columns (total 13 columns):\n",
      " #   Column           Non-Null Count  Dtype  \n",
      "---  ------           --------------  -----  \n",
      " 0   Year             18495 non-null  int64  \n",
      " 1   Week             18495 non-null  int64  \n",
      " 2   Address Block    18495 non-null  object \n",
      " 3   Block            18495 non-null  int64  \n",
      " 4   Trap             18495 non-null  object \n",
      " 5   Trap type        18495 non-null  object \n",
      " 6   Date             18495 non-null  object \n",
      " 7   Mosquito number  18495 non-null  int64  \n",
      " 8   Mosquito ID      18495 non-null  object \n",
      " 9   WNV Present      18495 non-null  object \n",
      " 10  Species          18495 non-null  object \n",
      " 11  Lat              15571 non-null  float64\n",
      " 12  Lon              15571 non-null  float64\n",
      "dtypes: float64(2), int64(4), object(7)\n",
      "memory usage: 1.8+ MB\n"
     ]
    }
   ],
   "source": [
    "mosquitodf.info()"
   ]
  },
  {
   "cell_type": "code",
   "execution_count": 6,
   "id": "e28aad79-458c-4599-b169-b60ad366a47b",
   "metadata": {
    "tags": []
   },
   "outputs": [],
   "source": [
    "mosquitodf['Date'] = mosquitodf['Date'].astype('datetime64[ns]')"
   ]
  },
  {
   "cell_type": "code",
   "execution_count": 7,
   "id": "1f8f519a-0489-4398-bab2-785ccd67ac81",
   "metadata": {
    "tags": []
   },
   "outputs": [
    {
     "name": "stdout",
     "output_type": "stream",
     "text": [
      "<class 'pandas.core.frame.DataFrame'>\n",
      "RangeIndex: 18495 entries, 0 to 18494\n",
      "Data columns (total 13 columns):\n",
      " #   Column           Non-Null Count  Dtype         \n",
      "---  ------           --------------  -----         \n",
      " 0   Year             18495 non-null  int64         \n",
      " 1   Week             18495 non-null  int64         \n",
      " 2   Address Block    18495 non-null  object        \n",
      " 3   Block            18495 non-null  int64         \n",
      " 4   Trap             18495 non-null  object        \n",
      " 5   Trap type        18495 non-null  object        \n",
      " 6   Date             18495 non-null  datetime64[ns]\n",
      " 7   Mosquito number  18495 non-null  int64         \n",
      " 8   Mosquito ID      18495 non-null  object        \n",
      " 9   WNV Present      18495 non-null  object        \n",
      " 10  Species          18495 non-null  object        \n",
      " 11  Lat              15571 non-null  float64       \n",
      " 12  Lon              15571 non-null  float64       \n",
      "dtypes: datetime64[ns](1), float64(2), int64(4), object(6)\n",
      "memory usage: 1.8+ MB\n"
     ]
    }
   ],
   "source": [
    "mosquitodf.info()"
   ]
  },
  {
   "cell_type": "markdown",
   "id": "209018fa-7431-4e30-8c66-718db25eb62f",
   "metadata": {},
   "source": [
    "### Understand the data and how it's distributed <a class=\"anchor\" id=\"data\"></a> "
   ]
  },
  {
   "cell_type": "code",
   "execution_count": 8,
   "id": "831883a3",
   "metadata": {},
   "outputs": [
    {
     "data": {
      "text/html": [
       "<div>\n",
       "<style scoped>\n",
       "    .dataframe tbody tr th:only-of-type {\n",
       "        vertical-align: middle;\n",
       "    }\n",
       "\n",
       "    .dataframe tbody tr th {\n",
       "        vertical-align: top;\n",
       "    }\n",
       "\n",
       "    .dataframe thead th {\n",
       "        text-align: right;\n",
       "    }\n",
       "</style>\n",
       "<table border=\"1\" class=\"dataframe\">\n",
       "  <thead>\n",
       "    <tr style=\"text-align: right;\">\n",
       "      <th></th>\n",
       "      <th>Year</th>\n",
       "      <th>Week</th>\n",
       "      <th>Address Block</th>\n",
       "      <th>Block</th>\n",
       "      <th>Trap</th>\n",
       "      <th>Trap type</th>\n",
       "      <th>Date</th>\n",
       "      <th>Mosquito number</th>\n",
       "      <th>Mosquito ID</th>\n",
       "      <th>WNV Present</th>\n",
       "      <th>Species</th>\n",
       "      <th>Lat</th>\n",
       "      <th>Lon</th>\n",
       "    </tr>\n",
       "  </thead>\n",
       "  <tbody>\n",
       "    <tr>\n",
       "      <th>0</th>\n",
       "      <td>2019</td>\n",
       "      <td>39</td>\n",
       "      <td>100XX W OHARE AIRPORT</td>\n",
       "      <td>100</td>\n",
       "      <td>T910</td>\n",
       "      <td>GRAVID</td>\n",
       "      <td>2019-09-26 00:09:00</td>\n",
       "      <td>2</td>\n",
       "      <td>Res</td>\n",
       "      <td>negative</td>\n",
       "      <td>CULEX RESTUANS</td>\n",
       "      <td>NaN</td>\n",
       "      <td>NaN</td>\n",
       "    </tr>\n",
       "    <tr>\n",
       "      <th>1</th>\n",
       "      <td>2019</td>\n",
       "      <td>39</td>\n",
       "      <td>52XX S KOLMAR AVE</td>\n",
       "      <td>52</td>\n",
       "      <td>T114</td>\n",
       "      <td>GRAVID</td>\n",
       "      <td>2019-09-26 00:09:00</td>\n",
       "      <td>1</td>\n",
       "      <td>Res</td>\n",
       "      <td>negative</td>\n",
       "      <td>CULEX RESTUANS</td>\n",
       "      <td>41.798211</td>\n",
       "      <td>-87.736925</td>\n",
       "    </tr>\n",
       "    <tr>\n",
       "      <th>2</th>\n",
       "      <td>2019</td>\n",
       "      <td>39</td>\n",
       "      <td>58XX N WESTERN AVE</td>\n",
       "      <td>58</td>\n",
       "      <td>T028</td>\n",
       "      <td>GRAVID</td>\n",
       "      <td>2019-09-26 00:09:00</td>\n",
       "      <td>2</td>\n",
       "      <td>Res</td>\n",
       "      <td>negative</td>\n",
       "      <td>CULEX RESTUANS</td>\n",
       "      <td>41.987245</td>\n",
       "      <td>-87.689417</td>\n",
       "    </tr>\n",
       "    <tr>\n",
       "      <th>3</th>\n",
       "      <td>2019</td>\n",
       "      <td>39</td>\n",
       "      <td>39XX N SPRINGFIELD AVE</td>\n",
       "      <td>39</td>\n",
       "      <td>T228</td>\n",
       "      <td>GRAVID</td>\n",
       "      <td>2019-09-26 00:09:00</td>\n",
       "      <td>1</td>\n",
       "      <td>Res</td>\n",
       "      <td>negative</td>\n",
       "      <td>CULEX RESTUANS</td>\n",
       "      <td>41.953664</td>\n",
       "      <td>-87.724987</td>\n",
       "    </tr>\n",
       "    <tr>\n",
       "      <th>4</th>\n",
       "      <td>2019</td>\n",
       "      <td>39</td>\n",
       "      <td>131XX S BRANDON AVE</td>\n",
       "      <td>131</td>\n",
       "      <td>T209</td>\n",
       "      <td>GRAVID</td>\n",
       "      <td>2019-09-26 00:09:00</td>\n",
       "      <td>9</td>\n",
       "      <td>Res</td>\n",
       "      <td>negative</td>\n",
       "      <td>CULEX RESTUANS</td>\n",
       "      <td>41.657069</td>\n",
       "      <td>-87.546049</td>\n",
       "    </tr>\n",
       "  </tbody>\n",
       "</table>\n",
       "</div>"
      ],
      "text/plain": [
       "   Year  Week           Address Block  Block  Trap Trap type  \\\n",
       "0  2019    39   100XX W OHARE AIRPORT    100  T910    GRAVID   \n",
       "1  2019    39       52XX S KOLMAR AVE     52  T114    GRAVID   \n",
       "2  2019    39      58XX N WESTERN AVE     58  T028    GRAVID   \n",
       "3  2019    39  39XX N SPRINGFIELD AVE     39  T228    GRAVID   \n",
       "4  2019    39     131XX S BRANDON AVE    131  T209    GRAVID   \n",
       "\n",
       "                 Date  Mosquito number Mosquito ID WNV Present  \\\n",
       "0 2019-09-26 00:09:00                2         Res    negative   \n",
       "1 2019-09-26 00:09:00                1         Res    negative   \n",
       "2 2019-09-26 00:09:00                2         Res    negative   \n",
       "3 2019-09-26 00:09:00                1         Res    negative   \n",
       "4 2019-09-26 00:09:00                9         Res    negative   \n",
       "\n",
       "          Species        Lat        Lon  \n",
       "0  CULEX RESTUANS        NaN        NaN  \n",
       "1  CULEX RESTUANS  41.798211 -87.736925  \n",
       "2  CULEX RESTUANS  41.987245 -87.689417  \n",
       "3  CULEX RESTUANS  41.953664 -87.724987  \n",
       "4  CULEX RESTUANS  41.657069 -87.546049  "
      ]
     },
     "execution_count": 8,
     "metadata": {},
     "output_type": "execute_result"
    }
   ],
   "source": [
    "mosquitodf.head()"
   ]
  },
  {
   "cell_type": "code",
   "execution_count": 12,
   "id": "33c69e90",
   "metadata": {},
   "outputs": [
    {
     "data": {
      "text/plain": [
       "Year\n",
       "2007    2141\n",
       "2008     984\n",
       "2009    1135\n",
       "2010    1397\n",
       "2011    1120\n",
       "2012    1392\n",
       "2013    1624\n",
       "2014    2000\n",
       "2015    1178\n",
       "2016    1844\n",
       "2017    1110\n",
       "2018    1361\n",
       "2019    1209\n",
       "Name: count, dtype: int64"
      ]
     },
     "execution_count": 12,
     "metadata": {},
     "output_type": "execute_result"
    }
   ],
   "source": [
    "mosquitodf['Year'].value_counts().sort_index()"
   ]
  },
  {
   "cell_type": "code",
   "execution_count": 11,
   "id": "c3c084d2-3c72-4400-b7e2-76f599307ccb",
   "metadata": {
    "tags": []
   },
   "outputs": [
    {
     "data": {
      "text/plain": [
       "Week\n",
       "20      29\n",
       "21      78\n",
       "22     129\n",
       "23     603\n",
       "24     802\n",
       "25     791\n",
       "26     792\n",
       "27     946\n",
       "28    1223\n",
       "29    1277\n",
       "30    1442\n",
       "31    1596\n",
       "32    1662\n",
       "33    1595\n",
       "34    1300\n",
       "35    1113\n",
       "36     972\n",
       "37     840\n",
       "38     664\n",
       "39     594\n",
       "40      47\n",
       "Name: count, dtype: int64"
      ]
     },
     "execution_count": 11,
     "metadata": {},
     "output_type": "execute_result"
    }
   ],
   "source": [
    "mosquitodf['Week'].value_counts().sort_index()"
   ]
  },
  {
   "cell_type": "code",
   "execution_count": 13,
   "id": "4a5b4219",
   "metadata": {},
   "outputs": [
    {
     "data": {
      "text/plain": [
       "Address Block\n",
       "100XX W OHARE AIRPORT       2039\n",
       "41XX N OAK PARK AVE          408\n",
       "101XX S STONY ISLAND AVE     369\n",
       "52XX S KOLMAR AVE            349\n",
       "1XX N CENTRAL PARK DR        335\n",
       "                            ... \n",
       "29XX N KENNETH AVE             2\n",
       "54XX W PARKER AVE              1\n",
       "4XX W 127TH ST                 1\n",
       "104XX S OGLESBY AVE            1\n",
       "21XX S HAMLIN AVE              1\n",
       "Name: count, Length: 154, dtype: int64"
      ]
     },
     "execution_count": 13,
     "metadata": {},
     "output_type": "execute_result"
    }
   ],
   "source": [
    "mosquitodf['Address Block'].value_counts()"
   ]
  },
  {
   "cell_type": "code",
   "execution_count": 18,
   "id": "6fd85b3b",
   "metadata": {},
   "outputs": [
    {
     "data": {
      "text/plain": [
       "Block\n",
       "1      335\n",
       "2       54\n",
       "3      270\n",
       "4      561\n",
       "5      495\n",
       "      ... \n",
       "122     14\n",
       "127    299\n",
       "129      5\n",
       "131    356\n",
       "132     11\n",
       "Name: count, Length: 87, dtype: int64"
      ]
     },
     "execution_count": 18,
     "metadata": {},
     "output_type": "execute_result"
    }
   ],
   "source": [
    "mosquitodf['Block'].value_counts().sort_index()"
   ]
  },
  {
   "cell_type": "code",
   "execution_count": 10,
   "id": "4e36ff47-8e06-4831-b7ee-1194e7fe3ffd",
   "metadata": {
    "tags": []
   },
   "outputs": [
    {
     "data": {
      "text/plain": [
       "<Axes: ylabel='Frequency'>"
      ]
     },
     "execution_count": 10,
     "metadata": {},
     "output_type": "execute_result"
    },
    {
     "data": {
      "image/png": "[encoded data removed]",
      "text/plain": [
       "<Figure size 640x480 with 1 Axes>"
      ]
     },
     "metadata": {},
     "output_type": "display_data"
    }
   ],
   "source": [
    "mosquitodf['Mosquito number'].plot(kind='hist')"
   ]
  },
  {
   "cell_type": "code",
   "execution_count": 11,
   "id": "7c9e1fcd-bec8-496e-bc0b-ce202f9d8ea8",
   "metadata": {
    "tags": []
   },
   "outputs": [
    {
     "data": {
      "text/plain": [
       "100    2265\n",
       "22      715\n",
       "58      636\n",
       "70      629\n",
       "52      577\n",
       "       ... \n",
       "80        5\n",
       "29        2\n",
       "112       2\n",
       "88        2\n",
       "54        1\n",
       "Name: Block, Length: 87, dtype: int64"
      ]
     },
     "execution_count": 11,
     "metadata": {},
     "output_type": "execute_result"
    }
   ],
   "source": [
    "# The Block column stores the block number of the address\n",
    "\n",
    "mosquitodf['Block'].value_counts()"
   ]
  },
  {
   "cell_type": "code",
   "execution_count": 12,
   "id": "44c51cab-65a0-4a8e-aeec-c6fa0c8b7b7f",
   "metadata": {
    "tags": []
   },
   "outputs": [
    {
     "data": {
      "text/plain": [
       "<Axes: ylabel='Frequency'>"
      ]
     },
     "execution_count": 12,
     "metadata": {},
     "output_type": "execute_result"
    },
    {
     "data": {
      "image/png": "[encoded data removed]",
      "text/plain": [
       "<Figure size 640x480 with 1 Axes>"
      ]
     },
     "metadata": {},
     "output_type": "display_data"
    }
   ],
   "source": [
    "mosquitodf['Block'].plot(kind='hist')"
   ]
  },
  {
   "cell_type": "code",
   "execution_count": 13,
   "id": "19d6367a-c531-4036-bcc1-8ba845d1fc96",
   "metadata": {
    "tags": []
   },
   "outputs": [
    {
     "data": {
      "text/plain": [
       "GRAVID      17741\n",
       "CDC           544\n",
       "SENTINEL      209\n",
       "OVI             1\n",
       "Name: Trap type, dtype: int64"
      ]
     },
     "execution_count": 13,
     "metadata": {},
     "output_type": "execute_result"
    }
   ],
   "source": [
    "# The column Trap type lists the kind of trap used\n",
    "\n",
    "mosquitodf['Trap type'].value_counts()"
   ]
  },
  {
   "cell_type": "code",
   "execution_count": 14,
   "id": "e07f1131-b693-4c51-a306-5695667e1cee",
   "metadata": {
    "tags": []
   },
   "outputs": [
    {
     "data": {
      "text/plain": [
       "<Axes: >"
      ]
     },
     "execution_count": 14,
     "metadata": {},
     "output_type": "execute_result"
    },
    {
     "data": {
      "image/png": "[encoded data removed]",
      "text/plain": [
       "<Figure size 640x480 with 1 Axes>"
      ]
     },
     "metadata": {},
     "output_type": "display_data"
    }
   ],
   "source": [
    "mosquitodf['Trap type'].value_counts().plot(kind='bar')"
   ]
  },
  {
   "cell_type": "code",
   "execution_count": 15,
   "id": "32d9292e-86c1-4b77-b95c-1f44a53baf79",
   "metadata": {
    "tags": []
   },
   "outputs": [
    {
     "data": {
      "text/plain": [
       "negative    14501\n",
       "positive     3994\n",
       "Name: WNV Present, dtype: int64"
      ]
     },
     "execution_count": 15,
     "metadata": {},
     "output_type": "execute_result"
    }
   ],
   "source": [
    "# The column WNV Present indicates whether or not west nile virus was present in the caught mosquitos\n",
    "\n",
    "mosquitodf['WNV Present'].value_counts()"
   ]
  },
  {
   "cell_type": "code",
   "execution_count": 16,
   "id": "ad2e1b67-8330-4381-9cc0-f5692eacbb81",
   "metadata": {
    "tags": []
   },
   "outputs": [
    {
     "data": {
      "text/plain": [
       "<Axes: ylabel='WNV Present'>"
      ]
     },
     "execution_count": 16,
     "metadata": {},
     "output_type": "execute_result"
    },
    {
     "data": {
      "image/png": "[encoded data removed]",
      "text/plain": [
       "<Figure size 640x480 with 1 Axes>"
      ]
     },
     "metadata": {},
     "output_type": "display_data"
    }
   ],
   "source": [
    "mosquitodf['WNV Present'].value_counts().plot(kind='pie')"
   ]
  },
  {
   "cell_type": "markdown",
   "id": "140973ee-404b-4da0-8e4c-2c81d432f5a2",
   "metadata": {},
   "source": [
    "### Part 1 Question 4   \n",
    "#### Are there any columns that contain duplicate information? If so, remove the redundant columns."
   ]
  },
  {
   "cell_type": "code",
   "execution_count": 17,
   "id": "a6ad0fd5-fa32-44ea-b02d-6cedaa318ea3",
   "metadata": {
    "tags": []
   },
   "outputs": [],
   "source": [
    "# the Mosquito ID column contains the same information as the Species column, so that column can be dropped\n",
    "\n",
    "mosquitodf.drop(columns = 'Mosquito ID', inplace = True)"
   ]
  },
  {
   "cell_type": "code",
   "execution_count": 18,
   "id": "b683020b-d84b-4285-9321-a6272a26df7c",
   "metadata": {
    "tags": []
   },
   "outputs": [
    {
     "data": {
      "text/html": [
       "<div>\n",
       "<style scoped>\n",
       "    .dataframe tbody tr th:only-of-type {\n",
       "        vertical-align: middle;\n",
       "    }\n",
       "\n",
       "    .dataframe tbody tr th {\n",
       "        vertical-align: top;\n",
       "    }\n",
       "\n",
       "    .dataframe thead th {\n",
       "        text-align: right;\n",
       "    }\n",
       "</style>\n",
       "<table border=\"1\" class=\"dataframe\">\n",
       "  <thead>\n",
       "    <tr style=\"text-align: right;\">\n",
       "      <th></th>\n",
       "      <th>Year</th>\n",
       "      <th>Week</th>\n",
       "      <th>Address Block</th>\n",
       "      <th>Block</th>\n",
       "      <th>Trap</th>\n",
       "      <th>Trap type</th>\n",
       "      <th>Date</th>\n",
       "      <th>Mosquito number</th>\n",
       "      <th>WNV Present</th>\n",
       "      <th>Species</th>\n",
       "      <th>Lat</th>\n",
       "      <th>Lon</th>\n",
       "    </tr>\n",
       "  </thead>\n",
       "  <tbody>\n",
       "    <tr>\n",
       "      <th>0</th>\n",
       "      <td>2019</td>\n",
       "      <td>39</td>\n",
       "      <td>100XX W OHARE AIRPORT</td>\n",
       "      <td>100</td>\n",
       "      <td>T910</td>\n",
       "      <td>GRAVID</td>\n",
       "      <td>2019-09-26 00:09:00</td>\n",
       "      <td>2</td>\n",
       "      <td>negative</td>\n",
       "      <td>CULEX RESTUANS</td>\n",
       "      <td>NaN</td>\n",
       "      <td>NaN</td>\n",
       "    </tr>\n",
       "    <tr>\n",
       "      <th>1</th>\n",
       "      <td>2019</td>\n",
       "      <td>39</td>\n",
       "      <td>52XX S KOLMAR AVE</td>\n",
       "      <td>52</td>\n",
       "      <td>T114</td>\n",
       "      <td>GRAVID</td>\n",
       "      <td>2019-09-26 00:09:00</td>\n",
       "      <td>1</td>\n",
       "      <td>negative</td>\n",
       "      <td>CULEX RESTUANS</td>\n",
       "      <td>41.798211</td>\n",
       "      <td>-87.736925</td>\n",
       "    </tr>\n",
       "    <tr>\n",
       "      <th>2</th>\n",
       "      <td>2019</td>\n",
       "      <td>39</td>\n",
       "      <td>58XX N WESTERN AVE</td>\n",
       "      <td>58</td>\n",
       "      <td>T028</td>\n",
       "      <td>GRAVID</td>\n",
       "      <td>2019-09-26 00:09:00</td>\n",
       "      <td>2</td>\n",
       "      <td>negative</td>\n",
       "      <td>CULEX RESTUANS</td>\n",
       "      <td>41.987245</td>\n",
       "      <td>-87.689417</td>\n",
       "    </tr>\n",
       "    <tr>\n",
       "      <th>3</th>\n",
       "      <td>2019</td>\n",
       "      <td>39</td>\n",
       "      <td>39XX N SPRINGFIELD AVE</td>\n",
       "      <td>39</td>\n",
       "      <td>T228</td>\n",
       "      <td>GRAVID</td>\n",
       "      <td>2019-09-26 00:09:00</td>\n",
       "      <td>1</td>\n",
       "      <td>negative</td>\n",
       "      <td>CULEX RESTUANS</td>\n",
       "      <td>41.953664</td>\n",
       "      <td>-87.724987</td>\n",
       "    </tr>\n",
       "    <tr>\n",
       "      <th>4</th>\n",
       "      <td>2019</td>\n",
       "      <td>39</td>\n",
       "      <td>131XX S BRANDON AVE</td>\n",
       "      <td>131</td>\n",
       "      <td>T209</td>\n",
       "      <td>GRAVID</td>\n",
       "      <td>2019-09-26 00:09:00</td>\n",
       "      <td>9</td>\n",
       "      <td>negative</td>\n",
       "      <td>CULEX RESTUANS</td>\n",
       "      <td>41.657069</td>\n",
       "      <td>-87.546049</td>\n",
       "    </tr>\n",
       "  </tbody>\n",
       "</table>\n",
       "</div>"
      ],
      "text/plain": [
       "   Year  Week           Address Block  Block  Trap Trap type  \\\n",
       "0  2019    39   100XX W OHARE AIRPORT    100  T910    GRAVID   \n",
       "1  2019    39       52XX S KOLMAR AVE     52  T114    GRAVID   \n",
       "2  2019    39      58XX N WESTERN AVE     58  T028    GRAVID   \n",
       "3  2019    39  39XX N SPRINGFIELD AVE     39  T228    GRAVID   \n",
       "4  2019    39     131XX S BRANDON AVE    131  T209    GRAVID   \n",
       "\n",
       "                 Date  Mosquito number WNV Present         Species        Lat  \\\n",
       "0 2019-09-26 00:09:00                2    negative  CULEX RESTUANS        NaN   \n",
       "1 2019-09-26 00:09:00                1    negative  CULEX RESTUANS  41.798211   \n",
       "2 2019-09-26 00:09:00                2    negative  CULEX RESTUANS  41.987245   \n",
       "3 2019-09-26 00:09:00                1    negative  CULEX RESTUANS  41.953664   \n",
       "4 2019-09-26 00:09:00                9    negative  CULEX RESTUANS  41.657069   \n",
       "\n",
       "         Lon  \n",
       "0        NaN  \n",
       "1 -87.736925  \n",
       "2 -87.689417  \n",
       "3 -87.724987  \n",
       "4 -87.546049  "
      ]
     },
     "execution_count": 18,
     "metadata": {},
     "output_type": "execute_result"
    }
   ],
   "source": [
    "# sanitiy check - the Mosquito ID column is gone now\n",
    "\n",
    "mosquitodf.head()"
   ]
  },
  {
   "cell_type": "code",
   "execution_count": 19,
   "id": "fa818aab-97fd-471f-b88b-f0ccdb3000f6",
   "metadata": {
    "tags": []
   },
   "outputs": [],
   "source": [
    "# there are some other columns where the information is technically redundant, like Block or Year, but they could be useful so I'll leave them"
   ]
  },
  {
   "cell_type": "markdown",
   "id": "11026d46-e8f6-4ba4-adcd-2368ae450b88",
   "metadata": {},
   "source": [
    "### Part 1 Question 5   \n",
    "#### Are there any null values in the dataframe? If so, deal with them appropriately."
   ]
  },
  {
   "cell_type": "code",
   "execution_count": 20,
   "id": "401773bb-dfa8-4fb5-a39c-62dc89d5a089",
   "metadata": {
    "tags": []
   },
   "outputs": [
    {
     "data": {
      "text/plain": [
       "Year                  0\n",
       "Week                  0\n",
       "Address Block         0\n",
       "Block                 0\n",
       "Trap                  0\n",
       "Trap type             0\n",
       "Date                  0\n",
       "Mosquito number       0\n",
       "WNV Present           0\n",
       "Species               0\n",
       "Lat                2924\n",
       "Lon                2924\n",
       "dtype: int64"
      ]
     },
     "execution_count": 20,
     "metadata": {},
     "output_type": "execute_result"
    }
   ],
   "source": [
    "mosquitodf.isnull().sum()"
   ]
  },
  {
   "cell_type": "code",
   "execution_count": 30,
   "id": "e275ff09-b837-42db-8e94-f4388df164fa",
   "metadata": {
    "tags": []
   },
   "outputs": [
    {
     "data": {
      "text/html": [
       "<div>\n",
       "<style scoped>\n",
       "    .dataframe tbody tr th:only-of-type {\n",
       "        vertical-align: middle;\n",
       "    }\n",
       "\n",
       "    .dataframe tbody tr th {\n",
       "        vertical-align: top;\n",
       "    }\n",
       "\n",
       "    .dataframe thead th {\n",
       "        text-align: right;\n",
       "    }\n",
       "</style>\n",
       "<table border=\"1\" class=\"dataframe\">\n",
       "  <thead>\n",
       "    <tr style=\"text-align: right;\">\n",
       "      <th></th>\n",
       "      <th>Year</th>\n",
       "      <th>Week</th>\n",
       "      <th>Address Block</th>\n",
       "      <th>Block</th>\n",
       "      <th>Trap</th>\n",
       "      <th>Trap type</th>\n",
       "      <th>Date</th>\n",
       "      <th>Mosquito number</th>\n",
       "      <th>WNV Present</th>\n",
       "      <th>Species</th>\n",
       "      <th>Lat</th>\n",
       "      <th>Lon</th>\n",
       "    </tr>\n",
       "  </thead>\n",
       "  <tbody>\n",
       "    <tr>\n",
       "      <th>0</th>\n",
       "      <td>2019</td>\n",
       "      <td>39</td>\n",
       "      <td>100XX W OHARE AIRPORT</td>\n",
       "      <td>100</td>\n",
       "      <td>T910</td>\n",
       "      <td>GRAVID</td>\n",
       "      <td>2019-09-26 00:09:00</td>\n",
       "      <td>2</td>\n",
       "      <td>negative</td>\n",
       "      <td>CULEX RESTUANS</td>\n",
       "      <td>NaN</td>\n",
       "      <td>NaN</td>\n",
       "    </tr>\n",
       "    <tr>\n",
       "      <th>44</th>\n",
       "      <td>2019</td>\n",
       "      <td>38</td>\n",
       "      <td>100XX W OHARE AIRPORT</td>\n",
       "      <td>100</td>\n",
       "      <td>T910</td>\n",
       "      <td>GRAVID</td>\n",
       "      <td>2019-09-19 00:09:00</td>\n",
       "      <td>3</td>\n",
       "      <td>negative</td>\n",
       "      <td>CULEX RESTUANS</td>\n",
       "      <td>NaN</td>\n",
       "      <td>NaN</td>\n",
       "    </tr>\n",
       "    <tr>\n",
       "      <th>55</th>\n",
       "      <td>2019</td>\n",
       "      <td>38</td>\n",
       "      <td>100XX W OHARE AIRPORT</td>\n",
       "      <td>100</td>\n",
       "      <td>T905</td>\n",
       "      <td>GRAVID</td>\n",
       "      <td>2019-09-19 00:09:00</td>\n",
       "      <td>2</td>\n",
       "      <td>negative</td>\n",
       "      <td>CULEX TERRITANS</td>\n",
       "      <td>NaN</td>\n",
       "      <td>NaN</td>\n",
       "    </tr>\n",
       "    <tr>\n",
       "      <th>57</th>\n",
       "      <td>2019</td>\n",
       "      <td>38</td>\n",
       "      <td>100XX W OHARE AIRPORT</td>\n",
       "      <td>100</td>\n",
       "      <td>T905</td>\n",
       "      <td>GRAVID</td>\n",
       "      <td>2019-09-19 00:09:00</td>\n",
       "      <td>4</td>\n",
       "      <td>negative</td>\n",
       "      <td>CULEX RESTUANS</td>\n",
       "      <td>NaN</td>\n",
       "      <td>NaN</td>\n",
       "    </tr>\n",
       "    <tr>\n",
       "      <th>93</th>\n",
       "      <td>2019</td>\n",
       "      <td>37</td>\n",
       "      <td>100XX W OHARE AIRPORT</td>\n",
       "      <td>100</td>\n",
       "      <td>T905</td>\n",
       "      <td>GRAVID</td>\n",
       "      <td>2019-09-12 00:09:00</td>\n",
       "      <td>2</td>\n",
       "      <td>negative</td>\n",
       "      <td>CULEX RESTUANS</td>\n",
       "      <td>NaN</td>\n",
       "      <td>NaN</td>\n",
       "    </tr>\n",
       "    <tr>\n",
       "      <th>...</th>\n",
       "      <td>...</td>\n",
       "      <td>...</td>\n",
       "      <td>...</td>\n",
       "      <td>...</td>\n",
       "      <td>...</td>\n",
       "      <td>...</td>\n",
       "      <td>...</td>\n",
       "      <td>...</td>\n",
       "      <td>...</td>\n",
       "      <td>...</td>\n",
       "      <td>...</td>\n",
       "      <td>...</td>\n",
       "    </tr>\n",
       "    <tr>\n",
       "      <th>18476</th>\n",
       "      <td>2013</td>\n",
       "      <td>29</td>\n",
       "      <td>100XX W OHARE AIRPORT</td>\n",
       "      <td>100</td>\n",
       "      <td>T912</td>\n",
       "      <td>GRAVID</td>\n",
       "      <td>2013-07-19 00:07:00</td>\n",
       "      <td>46</td>\n",
       "      <td>positive</td>\n",
       "      <td>CULEX RESTUANS</td>\n",
       "      <td>NaN</td>\n",
       "      <td>NaN</td>\n",
       "    </tr>\n",
       "    <tr>\n",
       "      <th>18477</th>\n",
       "      <td>2013</td>\n",
       "      <td>35</td>\n",
       "      <td>100XX W OHARE AIRPORT</td>\n",
       "      <td>100</td>\n",
       "      <td>T906</td>\n",
       "      <td>GRAVID</td>\n",
       "      <td>2013-08-29 00:08:00</td>\n",
       "      <td>50</td>\n",
       "      <td>positive</td>\n",
       "      <td>CULEX PIPIENS</td>\n",
       "      <td>NaN</td>\n",
       "      <td>NaN</td>\n",
       "    </tr>\n",
       "    <tr>\n",
       "      <th>18486</th>\n",
       "      <td>2016</td>\n",
       "      <td>29</td>\n",
       "      <td>100XX W OHARE AIRPORT</td>\n",
       "      <td>100</td>\n",
       "      <td>T911</td>\n",
       "      <td>GRAVID</td>\n",
       "      <td>2016-07-21 00:07:00</td>\n",
       "      <td>47</td>\n",
       "      <td>positive</td>\n",
       "      <td>CULEX RESTUANS</td>\n",
       "      <td>NaN</td>\n",
       "      <td>NaN</td>\n",
       "    </tr>\n",
       "    <tr>\n",
       "      <th>18488</th>\n",
       "      <td>2017</td>\n",
       "      <td>30</td>\n",
       "      <td>100XX W OHARE AIRPORT</td>\n",
       "      <td>100</td>\n",
       "      <td>T900</td>\n",
       "      <td>GRAVID</td>\n",
       "      <td>2017-07-27 00:07:00</td>\n",
       "      <td>17</td>\n",
       "      <td>positive</td>\n",
       "      <td>CULEX RESTUANS</td>\n",
       "      <td>NaN</td>\n",
       "      <td>NaN</td>\n",
       "    </tr>\n",
       "    <tr>\n",
       "      <th>18494</th>\n",
       "      <td>2015</td>\n",
       "      <td>33</td>\n",
       "      <td>100XX W OHARE AIRPORT</td>\n",
       "      <td>100</td>\n",
       "      <td>T902</td>\n",
       "      <td>GRAVID</td>\n",
       "      <td>2015-08-20 00:08:00</td>\n",
       "      <td>6</td>\n",
       "      <td>positive</td>\n",
       "      <td>CULEX RESTUANS</td>\n",
       "      <td>NaN</td>\n",
       "      <td>NaN</td>\n",
       "    </tr>\n",
       "  </tbody>\n",
       "</table>\n",
       "<p>2924 rows × 12 columns</p>\n",
       "</div>"
      ],
      "text/plain": [
       "       Year  Week          Address Block  Block  Trap Trap type  \\\n",
       "0      2019    39  100XX W OHARE AIRPORT    100  T910    GRAVID   \n",
       "44     2019    38  100XX W OHARE AIRPORT    100  T910    GRAVID   \n",
       "55     2019    38  100XX W OHARE AIRPORT    100  T905    GRAVID   \n",
       "57     2019    38  100XX W OHARE AIRPORT    100  T905    GRAVID   \n",
       "93     2019    37  100XX W OHARE AIRPORT    100  T905    GRAVID   \n",
       "...     ...   ...                    ...    ...   ...       ...   \n",
       "18476  2013    29  100XX W OHARE AIRPORT    100  T912    GRAVID   \n",
       "18477  2013    35  100XX W OHARE AIRPORT    100  T906    GRAVID   \n",
       "18486  2016    29  100XX W OHARE AIRPORT    100  T911    GRAVID   \n",
       "18488  2017    30  100XX W OHARE AIRPORT    100  T900    GRAVID   \n",
       "18494  2015    33  100XX W OHARE AIRPORT    100  T902    GRAVID   \n",
       "\n",
       "                     Date  Mosquito number WNV Present          Species  Lat  \\\n",
       "0     2019-09-26 00:09:00                2    negative   CULEX RESTUANS  NaN   \n",
       "44    2019-09-19 00:09:00                3    negative   CULEX RESTUANS  NaN   \n",
       "55    2019-09-19 00:09:00                2    negative  CULEX TERRITANS  NaN   \n",
       "57    2019-09-19 00:09:00                4    negative   CULEX RESTUANS  NaN   \n",
       "93    2019-09-12 00:09:00                2    negative   CULEX RESTUANS  NaN   \n",
       "...                   ...              ...         ...              ...  ...   \n",
       "18476 2013-07-19 00:07:00               46    positive   CULEX RESTUANS  NaN   \n",
       "18477 2013-08-29 00:08:00               50    positive    CULEX PIPIENS  NaN   \n",
       "18486 2016-07-21 00:07:00               47    positive   CULEX RESTUANS  NaN   \n",
       "18488 2017-07-27 00:07:00               17    positive   CULEX RESTUANS  NaN   \n",
       "18494 2015-08-20 00:08:00                6    positive   CULEX RESTUANS  NaN   \n",
       "\n",
       "       Lon  \n",
       "0      NaN  \n",
       "44     NaN  \n",
       "55     NaN  \n",
       "57     NaN  \n",
       "93     NaN  \n",
       "...    ...  \n",
       "18476  NaN  \n",
       "18477  NaN  \n",
       "18486  NaN  \n",
       "18488  NaN  \n",
       "18494  NaN  \n",
       "\n",
       "[2924 rows x 12 columns]"
      ]
     },
     "execution_count": 30,
     "metadata": {},
     "output_type": "execute_result"
    }
   ],
   "source": [
    "# the only null values are found in the latitude and longitude columns \n",
    "# I want to see if I can find which blocks/addresses are listed in those rows to then see if I can infer the latitudes and longitudes\n",
    "# using the latitude column to filter, I can find all the columns with null values (2,924)\n",
    "\n",
    "mosquitodf.loc[mosquitodf['Lat'].isnull(), :]"
   ]
  },
  {
   "cell_type": "code",
   "execution_count": 29,
   "id": "e55caadd-e066-41db-aab4-4ea4fb042855",
   "metadata": {},
   "outputs": [
    {
     "data": {
      "text/plain": [
       "array(['100XX W OHARE AIRPORT', '4XX W 127TH', '100XX W OHARE',\n",
       "       '81XX S ASHLAND', '79XX S CHICAGO', '98XX S AVENUE G',\n",
       "       '65XX N OAK PARK AVE', '115XX S AVENUE L', '30XX S HOYNE',\n",
       "       '43XX N ASHLAND'], dtype=object)"
      ]
     },
     "execution_count": 29,
     "metadata": {},
     "output_type": "execute_result"
    }
   ],
   "source": [
    "# this is the list of the address blocks that correspond to null latitude and longitude\n",
    "\n",
    "mosquitodf.loc[mosquitodf['Lat'].isnull(), :]['Address Block'].unique()"
   ]
  },
  {
   "cell_type": "code",
   "execution_count": 42,
   "id": "a57f792e-980f-42fb-a5f7-ab389acd5934",
   "metadata": {
    "tags": []
   },
   "outputs": [
    {
     "data": {
      "text/plain": [
       "Year                 0\n",
       "Week                 0\n",
       "Address Block        0\n",
       "Block                0\n",
       "Trap                 0\n",
       "Trap type            0\n",
       "Date                 0\n",
       "Mosquito number      0\n",
       "WNV Present          0\n",
       "Species              0\n",
       "Lat                136\n",
       "Lon                136\n",
       "dtype: int64"
      ]
     },
     "execution_count": 42,
     "metadata": {},
     "output_type": "execute_result"
    }
   ],
   "source": [
    "mosquitodf[mosquitodf['Block'] == 79].isnull().sum()"
   ]
  },
  {
   "cell_type": "markdown",
   "id": "19210dc3-21f5-4d42-8215-1731e81bc6e0",
   "metadata": {
    "tags": []
   },
   "source": [
    "After checking through some of the addresses and blocks listed above it seems that all instances of those addresses correspond to null latitude and longitude values, and so I don't think I can infer the values for those columns. Since I won't need the latitude or longitude for the rest of the analysis, I'll just drop the columns."
   ]
  },
  {
   "cell_type": "code",
   "execution_count": 48,
   "id": "31f98195-2cbe-401d-9de2-326fddaa4094",
   "metadata": {
    "tags": []
   },
   "outputs": [],
   "source": [
    "mosquitodf.drop(columns = 'Lat', inplace = True)\n",
    "mosquitodf.drop(columns = 'Lon', inplace = True)"
   ]
  },
  {
   "cell_type": "code",
   "execution_count": 49,
   "id": "8f846b99-78df-48a1-9fb7-44e7400f3ec5",
   "metadata": {
    "tags": []
   },
   "outputs": [
    {
     "data": {
      "text/html": [
       "<div>\n",
       "<style scoped>\n",
       "    .dataframe tbody tr th:only-of-type {\n",
       "        vertical-align: middle;\n",
       "    }\n",
       "\n",
       "    .dataframe tbody tr th {\n",
       "        vertical-align: top;\n",
       "    }\n",
       "\n",
       "    .dataframe thead th {\n",
       "        text-align: right;\n",
       "    }\n",
       "</style>\n",
       "<table border=\"1\" class=\"dataframe\">\n",
       "  <thead>\n",
       "    <tr style=\"text-align: right;\">\n",
       "      <th></th>\n",
       "      <th>Year</th>\n",
       "      <th>Week</th>\n",
       "      <th>Address Block</th>\n",
       "      <th>Block</th>\n",
       "      <th>Trap</th>\n",
       "      <th>Trap type</th>\n",
       "      <th>Date</th>\n",
       "      <th>Mosquito number</th>\n",
       "      <th>WNV Present</th>\n",
       "      <th>Species</th>\n",
       "    </tr>\n",
       "  </thead>\n",
       "  <tbody>\n",
       "    <tr>\n",
       "      <th>0</th>\n",
       "      <td>2019</td>\n",
       "      <td>39</td>\n",
       "      <td>100XX W OHARE AIRPORT</td>\n",
       "      <td>100</td>\n",
       "      <td>T910</td>\n",
       "      <td>GRAVID</td>\n",
       "      <td>2019-09-26 00:09:00</td>\n",
       "      <td>2</td>\n",
       "      <td>negative</td>\n",
       "      <td>CULEX RESTUANS</td>\n",
       "    </tr>\n",
       "    <tr>\n",
       "      <th>1</th>\n",
       "      <td>2019</td>\n",
       "      <td>39</td>\n",
       "      <td>52XX S KOLMAR AVE</td>\n",
       "      <td>52</td>\n",
       "      <td>T114</td>\n",
       "      <td>GRAVID</td>\n",
       "      <td>2019-09-26 00:09:00</td>\n",
       "      <td>1</td>\n",
       "      <td>negative</td>\n",
       "      <td>CULEX RESTUANS</td>\n",
       "    </tr>\n",
       "    <tr>\n",
       "      <th>2</th>\n",
       "      <td>2019</td>\n",
       "      <td>39</td>\n",
       "      <td>58XX N WESTERN AVE</td>\n",
       "      <td>58</td>\n",
       "      <td>T028</td>\n",
       "      <td>GRAVID</td>\n",
       "      <td>2019-09-26 00:09:00</td>\n",
       "      <td>2</td>\n",
       "      <td>negative</td>\n",
       "      <td>CULEX RESTUANS</td>\n",
       "    </tr>\n",
       "    <tr>\n",
       "      <th>3</th>\n",
       "      <td>2019</td>\n",
       "      <td>39</td>\n",
       "      <td>39XX N SPRINGFIELD AVE</td>\n",
       "      <td>39</td>\n",
       "      <td>T228</td>\n",
       "      <td>GRAVID</td>\n",
       "      <td>2019-09-26 00:09:00</td>\n",
       "      <td>1</td>\n",
       "      <td>negative</td>\n",
       "      <td>CULEX RESTUANS</td>\n",
       "    </tr>\n",
       "    <tr>\n",
       "      <th>4</th>\n",
       "      <td>2019</td>\n",
       "      <td>39</td>\n",
       "      <td>131XX S BRANDON AVE</td>\n",
       "      <td>131</td>\n",
       "      <td>T209</td>\n",
       "      <td>GRAVID</td>\n",
       "      <td>2019-09-26 00:09:00</td>\n",
       "      <td>9</td>\n",
       "      <td>negative</td>\n",
       "      <td>CULEX RESTUANS</td>\n",
       "    </tr>\n",
       "  </tbody>\n",
       "</table>\n",
       "</div>"
      ],
      "text/plain": [
       "   Year  Week           Address Block  Block  Trap Trap type  \\\n",
       "0  2019    39   100XX W OHARE AIRPORT    100  T910    GRAVID   \n",
       "1  2019    39       52XX S KOLMAR AVE     52  T114    GRAVID   \n",
       "2  2019    39      58XX N WESTERN AVE     58  T028    GRAVID   \n",
       "3  2019    39  39XX N SPRINGFIELD AVE     39  T228    GRAVID   \n",
       "4  2019    39     131XX S BRANDON AVE    131  T209    GRAVID   \n",
       "\n",
       "                 Date  Mosquito number WNV Present         Species  \n",
       "0 2019-09-26 00:09:00                2    negative  CULEX RESTUANS  \n",
       "1 2019-09-26 00:09:00                1    negative  CULEX RESTUANS  \n",
       "2 2019-09-26 00:09:00                2    negative  CULEX RESTUANS  \n",
       "3 2019-09-26 00:09:00                1    negative  CULEX RESTUANS  \n",
       "4 2019-09-26 00:09:00                9    negative  CULEX RESTUANS  "
      ]
     },
     "execution_count": 49,
     "metadata": {},
     "output_type": "execute_result"
    }
   ],
   "source": [
    "# checking they're gone\n",
    "\n",
    "mosquitodf.head()"
   ]
  },
  {
   "cell_type": "markdown",
   "id": "1eee8c6e-2ccc-446f-b47c-c5a81c132a6f",
   "metadata": {},
   "source": [
    "### Part 2 Question 1     \n",
    "#### Using an appropriate visual, or visuals, explore the relationship between mosquito number and date."
   ]
  },
  {
   "cell_type": "code",
   "execution_count": 55,
   "id": "c14dff01-c5e4-4d57-80f4-de34210a3c9f",
   "metadata": {
    "tags": []
   },
   "outputs": [
    {
     "data": {
      "text/plain": [
       "<Axes: xlabel='Year'>"
      ]
     },
     "execution_count": 55,
     "metadata": {},
     "output_type": "execute_result"
    },
    {
     "data": {
      "image/png": "[encoded data removed]",
      "text/plain": [
       "<Figure size 640x480 with 1 Axes>"
      ]
     },
     "metadata": {},
     "output_type": "display_data"
    }
   ],
   "source": [
    "mosquitodf.groupby(['Year'])['Mosquito number'].count().plot()"
   ]
  },
  {
   "cell_type": "code",
   "execution_count": 56,
   "id": "9d1af39c-5fea-40b4-bafc-a63ada5c53da",
   "metadata": {
    "tags": []
   },
   "outputs": [
    {
     "data": {
      "text/plain": [
       "<Axes: xlabel='Date'>"
      ]
     },
     "execution_count": 56,
     "metadata": {},
     "output_type": "execute_result"
    },
    {
     "data": {
      "image/png": "[encoded data removed]",
      "text/plain": [
       "<Figure size 640x480 with 1 Axes>"
      ]
     },
     "metadata": {},
     "output_type": "display_data"
    }
   ],
   "source": [
    "mosquitodf.groupby(['Date'])['Mosquito number'].count().plot()"
   ]
  },
  {
   "cell_type": "markdown",
   "id": "2f38584d-5c22-4b0d-9594-8b9a8ec5075c",
   "metadata": {},
   "source": [
    "### Part 3 Question 1    \n",
    "#### Using an appropriate visual, explore the relationship between mosquito species and WNV prevalence."
   ]
  },
  {
   "cell_type": "code",
   "execution_count": 78,
   "id": "da732033-9a39-4384-a963-78c6955a35e2",
   "metadata": {
    "tags": []
   },
   "outputs": [
    {
     "data": {
      "text/plain": [
       "<Axes: xlabel='Species'>"
      ]
     },
     "execution_count": 78,
     "metadata": {},
     "output_type": "execute_result"
    },
    {
     "data": {
      "image/png": "[encoded data removed]",
      "text/plain": [
       "<Figure size 640x480 with 1 Axes>"
      ]
     },
     "metadata": {},
     "output_type": "display_data"
    }
   ],
   "source": [
    "mosquitodf.groupby(['Species'])['WNV Present'].count().sort_values().plot(kind='bar')"
   ]
  },
  {
   "cell_type": "code",
   "execution_count": 80,
   "id": "dab5f4c1-6a77-4dd3-9848-7ff704e378f0",
   "metadata": {
    "tags": []
   },
   "outputs": [
    {
     "data": {
      "text/plain": [
       "<Axes: ylabel='Species'>"
      ]
     },
     "execution_count": 80,
     "metadata": {},
     "output_type": "execute_result"
    },
    {
     "data": {
      "image/png": "[encoded data removed]",
      "text/plain": [
       "<Figure size 640x480 with 1 Axes>"
      ]
     },
     "metadata": {},
     "output_type": "display_data"
    }
   ],
   "source": [
    "mosquitodf.groupby(['Species', 'WNV Present'])['WNV Present'].count().unstack()[['positive', 'negative']].sort_values('positive').plot(kind='barh')"
   ]
  },
  {
   "cell_type": "code",
   "execution_count": null,
   "id": "94b727bc-ec9f-4974-abd1-d3b283577d7a",
   "metadata": {},
   "outputs": [],
   "source": []
  },
  {
   "cell_type": "markdown",
   "id": "052c385a-46a5-411d-b49b-61d5ac34ad3c",
   "metadata": {},
   "source": [
    "### Part 3 Question 2     \n",
    "#### Using an appropriate visual, explore the relationship between the number of mosquitos caught and trap type.    \n",
    "#### Note: This visual should be a different type of visualization than the previous one."
   ]
  },
  {
   "cell_type": "code",
   "execution_count": 83,
   "id": "b14344b5-75d3-4eb8-a348-9a3cad891bb7",
   "metadata": {
    "tags": []
   },
   "outputs": [
    {
     "data": {
      "text/plain": [
       "<Axes: ylabel='Mosquito number'>"
      ]
     },
     "execution_count": 83,
     "metadata": {},
     "output_type": "execute_result"
    },
    {
     "data": {
      "image/png": "[encoded data removed]",
      "text/plain": [
       "<Figure size 640x480 with 1 Axes>"
      ]
     },
     "metadata": {},
     "output_type": "display_data"
    }
   ],
   "source": [
    "mosquitodf.groupby(['Trap type'])['Mosquito number'].count().plot(kind='pie')"
   ]
  },
  {
   "cell_type": "code",
   "execution_count": 84,
   "id": "64227467-848b-4bdc-a50d-81834ff5ae48",
   "metadata": {
    "tags": []
   },
   "outputs": [
    {
     "data": {
      "text/plain": [
       "<Axes: ylabel='Trap type'>"
      ]
     },
     "execution_count": 84,
     "metadata": {},
     "output_type": "execute_result"
    },
    {
     "data": {
      "image/png": "[encoded data removed]",
      "text/plain": [
       "<Figure size 640x480 with 1 Axes>"
      ]
     },
     "metadata": {},
     "output_type": "display_data"
    }
   ],
   "source": [
    "mosquitodf['Trap type'].value_counts().plot(kind='pie')"
   ]
  },
  {
   "cell_type": "markdown",
   "id": "86779d59-84f7-4e96-9adb-22ef1ebeee00",
   "metadata": {},
   "source": [
    "### Part 3 Question 3     \n",
    "#### Using an appropriate visual, come up with an additional insight of your choice.   \n",
    "#### Note: This visual should be a different type of visualization than the previous two"
   ]
  },
  {
   "cell_type": "code",
   "execution_count": 154,
   "id": "df08ecae-54b4-4f9b-be02-7f13a8458fa8",
   "metadata": {
    "tags": []
   },
   "outputs": [],
   "source": [
    "# I want to see the distribution of mosquitos by block, and the distribution of positive WNV mosquitos by block"
   ]
  },
  {
   "cell_type": "code",
   "execution_count": 153,
   "id": "31d185a1-e683-4691-8d20-1dc44084630c",
   "metadata": {
    "tags": []
   },
   "outputs": [
    {
     "data": {
      "text/plain": [
       "<Axes: ylabel='Block'>"
      ]
     },
     "execution_count": 153,
     "metadata": {},
     "output_type": "execute_result"
    },
    {
     "data": {
      "image/png": "[encoded data removed]",
      "text/plain": [
       "<Figure size 640x480 with 1 Axes>"
      ]
     },
     "metadata": {},
     "output_type": "display_data"
    }
   ],
   "source": [
    "# top 10 blocks with the most mosquitos\n",
    "\n",
    "mosquitodf.groupby(['Block'])['Mosquito number'].sum().sort_values(ascending=False)[:10].plot(kind='barh')"
   ]
  },
  {
   "cell_type": "code",
   "execution_count": 152,
   "id": "0b98c9fa-317f-4d12-b74a-cdbddfd894a9",
   "metadata": {
    "tags": []
   },
   "outputs": [
    {
     "data": {
      "text/plain": [
       "<Axes: >"
      ]
     },
     "execution_count": 152,
     "metadata": {},
     "output_type": "execute_result"
    },
    {
     "data": {
      "image/png": "[encoded data removed]",
      "text/plain": [
       "<Figure size 640x480 with 1 Axes>"
      ]
     },
     "metadata": {},
     "output_type": "display_data"
    }
   ],
   "source": [
    "# top 10 blocks with the most counts of WNV being present \n",
    "\n",
    "mosquitodf[mosquitodf['WNV Present'] == 'positive']['Block'].value_counts().sort_values(ascending=False)[:10].plot(kind='barh')"
   ]
  },
  {
   "cell_type": "code",
   "execution_count": 156,
   "id": "559119e4-f225-496f-8fdc-dbb8b85a1c9a",
   "metadata": {
    "tags": []
   },
   "outputs": [
    {
     "data": {
      "text/plain": [
       "<Axes: ylabel='Block'>"
      ]
     },
     "execution_count": 156,
     "metadata": {},
     "output_type": "execute_result"
    },
    {
     "data": {
      "image/png": "[encoded data removed]",
      "text/plain": [
       "<Figure size 640x480 with 1 Axes>"
      ]
     },
     "metadata": {},
     "output_type": "display_data"
    }
   ],
   "source": [
    "mosquitodf.groupby(['Block', 'WNV Present'])['WNV Present'].count().unstack()[['positive', 'negative']].sort_values('positive')[:10].plot(kind='barh')"
   ]
  },
  {
   "cell_type": "code",
   "execution_count": null,
   "id": "895708c9-58c4-48c1-a03f-5b5103df0c57",
   "metadata": {},
   "outputs": [],
   "source": []
  }
 ],
 "metadata": {
  "kernelspec": {
   "display_name": "base",
   "language": "python",
   "name": "python3"
  },
  "language_info": {
   "codemirror_mode": {
    "name": "ipython",
    "version": 3
   },
   "file_extension": ".py",
   "mimetype": "text/x-python",
   "name": "python",
   "nbconvert_exporter": "python",
   "pygments_lexer": "ipython3",
   "version": "3.11.5"
  }
 },
 "nbformat": 4,
 "nbformat_minor": 5
}
